{
 "cells": [
  {
   "cell_type": "code",
   "execution_count": 7,
   "metadata": {
    "collapsed": true
   },
   "outputs": [],
   "source": [
    "import pandas as pd\n",
    "import numpy as np\n",
    "%matplotlib inline \n",
    "import matplotlib.pyplot as plt"
   ]
  },
  {
   "cell_type": "code",
   "execution_count": 16,
   "metadata": {},
   "outputs": [
    {
     "data": {
      "text/html": [
       "<div>\n",
       "<style>\n",
       "    .dataframe thead tr:only-child th {\n",
       "        text-align: right;\n",
       "    }\n",
       "\n",
       "    .dataframe thead th {\n",
       "        text-align: left;\n",
       "    }\n",
       "\n",
       "    .dataframe tbody tr th {\n",
       "        vertical-align: top;\n",
       "    }\n",
       "</style>\n",
       "<table border=\"1\" class=\"dataframe\">\n",
       "  <thead>\n",
       "    <tr style=\"text-align: right;\">\n",
       "      <th></th>\n",
       "      <th>GENDER</th>\n",
       "      <th>SENIORCITIZEN</th>\n",
       "      <th>PARTNER</th>\n",
       "      <th>DEPENDENTS</th>\n",
       "      <th>TENURE</th>\n",
       "      <th>PHONESERVICE</th>\n",
       "      <th>PAPERLESSBILLING</th>\n",
       "      <th>MONTHLYCHARGES</th>\n",
       "      <th>TOTALCHARGES</th>\n",
       "      <th>MONTHLY_MINUTES_OF_USE</th>\n",
       "      <th>...</th>\n",
       "      <th>STREAMINGMOVIES_No</th>\n",
       "      <th>STREAMINGMOVIES_No internet service</th>\n",
       "      <th>STREAMINGMOVIES_Yes</th>\n",
       "      <th>CONTRACT_Month-to-month</th>\n",
       "      <th>CONTRACT_One year</th>\n",
       "      <th>CONTRACT_Two year</th>\n",
       "      <th>PAYMENTMETHOD_Bank transfer automatic</th>\n",
       "      <th>PAYMENTMETHOD_Credit card automatic</th>\n",
       "      <th>PAYMENTMETHOD_Electronic check</th>\n",
       "      <th>PAYMENTMETHOD_Mailed check</th>\n",
       "    </tr>\n",
       "  </thead>\n",
       "  <tbody>\n",
       "    <tr>\n",
       "      <th>0</th>\n",
       "      <td>0</td>\n",
       "      <td>0</td>\n",
       "      <td>1</td>\n",
       "      <td>0</td>\n",
       "      <td>1</td>\n",
       "      <td>0</td>\n",
       "      <td>1</td>\n",
       "      <td>29.85</td>\n",
       "      <td>29.85</td>\n",
       "      <td>0</td>\n",
       "      <td>...</td>\n",
       "      <td>1</td>\n",
       "      <td>0</td>\n",
       "      <td>0</td>\n",
       "      <td>1</td>\n",
       "      <td>0</td>\n",
       "      <td>0</td>\n",
       "      <td>0</td>\n",
       "      <td>0</td>\n",
       "      <td>1</td>\n",
       "      <td>0</td>\n",
       "    </tr>\n",
       "    <tr>\n",
       "      <th>1</th>\n",
       "      <td>1</td>\n",
       "      <td>0</td>\n",
       "      <td>0</td>\n",
       "      <td>0</td>\n",
       "      <td>45</td>\n",
       "      <td>0</td>\n",
       "      <td>0</td>\n",
       "      <td>42.30</td>\n",
       "      <td>1840.75</td>\n",
       "      <td>0</td>\n",
       "      <td>...</td>\n",
       "      <td>1</td>\n",
       "      <td>0</td>\n",
       "      <td>0</td>\n",
       "      <td>0</td>\n",
       "      <td>1</td>\n",
       "      <td>0</td>\n",
       "      <td>1</td>\n",
       "      <td>0</td>\n",
       "      <td>0</td>\n",
       "      <td>0</td>\n",
       "    </tr>\n",
       "    <tr>\n",
       "      <th>2</th>\n",
       "      <td>0</td>\n",
       "      <td>0</td>\n",
       "      <td>0</td>\n",
       "      <td>0</td>\n",
       "      <td>10</td>\n",
       "      <td>0</td>\n",
       "      <td>0</td>\n",
       "      <td>29.75</td>\n",
       "      <td>301.90</td>\n",
       "      <td>0</td>\n",
       "      <td>...</td>\n",
       "      <td>1</td>\n",
       "      <td>0</td>\n",
       "      <td>0</td>\n",
       "      <td>1</td>\n",
       "      <td>0</td>\n",
       "      <td>0</td>\n",
       "      <td>0</td>\n",
       "      <td>0</td>\n",
       "      <td>0</td>\n",
       "      <td>1</td>\n",
       "    </tr>\n",
       "    <tr>\n",
       "      <th>3</th>\n",
       "      <td>1</td>\n",
       "      <td>1</td>\n",
       "      <td>0</td>\n",
       "      <td>0</td>\n",
       "      <td>1</td>\n",
       "      <td>0</td>\n",
       "      <td>1</td>\n",
       "      <td>39.65</td>\n",
       "      <td>39.65</td>\n",
       "      <td>0</td>\n",
       "      <td>...</td>\n",
       "      <td>0</td>\n",
       "      <td>0</td>\n",
       "      <td>1</td>\n",
       "      <td>1</td>\n",
       "      <td>0</td>\n",
       "      <td>0</td>\n",
       "      <td>0</td>\n",
       "      <td>0</td>\n",
       "      <td>1</td>\n",
       "      <td>0</td>\n",
       "    </tr>\n",
       "    <tr>\n",
       "      <th>4</th>\n",
       "      <td>1</td>\n",
       "      <td>0</td>\n",
       "      <td>1</td>\n",
       "      <td>1</td>\n",
       "      <td>1</td>\n",
       "      <td>0</td>\n",
       "      <td>0</td>\n",
       "      <td>30.20</td>\n",
       "      <td>30.20</td>\n",
       "      <td>0</td>\n",
       "      <td>...</td>\n",
       "      <td>1</td>\n",
       "      <td>0</td>\n",
       "      <td>0</td>\n",
       "      <td>1</td>\n",
       "      <td>0</td>\n",
       "      <td>0</td>\n",
       "      <td>0</td>\n",
       "      <td>0</td>\n",
       "      <td>1</td>\n",
       "      <td>0</td>\n",
       "    </tr>\n",
       "  </tbody>\n",
       "</table>\n",
       "<p>5 rows × 45 columns</p>\n",
       "</div>"
      ],
      "text/plain": [
       "   GENDER  SENIORCITIZEN  PARTNER  DEPENDENTS  TENURE  PHONESERVICE  \\\n",
       "0       0              0        1           0       1             0   \n",
       "1       1              0        0           0      45             0   \n",
       "2       0              0        0           0      10             0   \n",
       "3       1              1        0           0       1             0   \n",
       "4       1              0        1           1       1             0   \n",
       "\n",
       "   PAPERLESSBILLING  MONTHLYCHARGES  TOTALCHARGES  MONTHLY_MINUTES_OF_USE  \\\n",
       "0                 1           29.85         29.85                       0   \n",
       "1                 0           42.30       1840.75                       0   \n",
       "2                 0           29.75        301.90                       0   \n",
       "3                 1           39.65         39.65                       0   \n",
       "4                 0           30.20         30.20                       0   \n",
       "\n",
       "              ...              STREAMINGMOVIES_No  \\\n",
       "0             ...                               1   \n",
       "1             ...                               1   \n",
       "2             ...                               1   \n",
       "3             ...                               0   \n",
       "4             ...                               1   \n",
       "\n",
       "   STREAMINGMOVIES_No internet service  STREAMINGMOVIES_Yes  \\\n",
       "0                                    0                    0   \n",
       "1                                    0                    0   \n",
       "2                                    0                    0   \n",
       "3                                    0                    1   \n",
       "4                                    0                    0   \n",
       "\n",
       "   CONTRACT_Month-to-month  CONTRACT_One year  CONTRACT_Two year  \\\n",
       "0                        1                  0                  0   \n",
       "1                        0                  1                  0   \n",
       "2                        1                  0                  0   \n",
       "3                        1                  0                  0   \n",
       "4                        1                  0                  0   \n",
       "\n",
       "   PAYMENTMETHOD_Bank transfer automatic  PAYMENTMETHOD_Credit card automatic  \\\n",
       "0                                      0                                    0   \n",
       "1                                      1                                    0   \n",
       "2                                      0                                    0   \n",
       "3                                      0                                    0   \n",
       "4                                      0                                    0   \n",
       "\n",
       "   PAYMENTMETHOD_Electronic check  PAYMENTMETHOD_Mailed check  \n",
       "0                               1                           0  \n",
       "1                               0                           0  \n",
       "2                               0                           1  \n",
       "3                               1                           0  \n",
       "4                               1                           0  \n",
       "\n",
       "[5 rows x 45 columns]"
      ]
     },
     "execution_count": 16,
     "metadata": {},
     "output_type": "execute_result"
    }
   ],
   "source": [
    "df=pd.read_csv(\"../moreCleanData.csv\", index_col=False)\n",
    "df.head()"
   ]
  },
  {
   "cell_type": "code",
   "execution_count": 9,
   "metadata": {},
   "outputs": [
    {
     "data": {
      "text/plain": [
       "Index(['GENDER', 'SENIORCITIZEN', 'PARTNER', 'DEPENDENTS', 'TENURE',\n",
       "       'PHONESERVICE', 'PAPERLESSBILLING', 'MONTHLYCHARGES', 'TOTALCHARGES',\n",
       "       'MONTHLY_MINUTES_OF_USE', 'TOTAL_MINUTES_OF_USE', 'MONTHLY_SMS',\n",
       "       'TOTAL_SMS', 'MULTIPLELINES_No', 'MULTIPLELINES_No phone service',\n",
       "       'MULTIPLELINES_Yes', 'INTERNETSERVICE_DSL',\n",
       "       'INTERNETSERVICE_Fiber optic', 'INTERNETSERVICE_No',\n",
       "       'ONLINESECURITY_No', 'ONLINESECURITY_No internet service',\n",
       "       'ONLINESECURITY_Yes', 'ONLINEBACKUP_No',\n",
       "       'ONLINEBACKUP_No internet service', 'ONLINEBACKUP_Yes',\n",
       "       'DEVICEPROTECTION_No', 'DEVICEPROTECTION_No internet service',\n",
       "       'DEVICEPROTECTION_Yes', 'TECHSUPPORT_No',\n",
       "       'TECHSUPPORT_No internet service', 'TECHSUPPORT_Yes', 'STREAMINGTV_No',\n",
       "       'STREAMINGTV_No internet service', 'STREAMINGTV_Yes',\n",
       "       'STREAMINGMOVIES_No', 'STREAMINGMOVIES_No internet service',\n",
       "       'STREAMINGMOVIES_Yes', 'CONTRACT_Month-to-month', 'CONTRACT_One year',\n",
       "       'CONTRACT_Two year', 'PAYMENTMETHOD_Bank transfer automatic',\n",
       "       'PAYMENTMETHOD_Credit card automatic', 'PAYMENTMETHOD_Electronic check',\n",
       "       'PAYMENTMETHOD_Mailed check'],\n",
       "      dtype='object')"
      ]
     },
     "execution_count": 9,
     "metadata": {},
     "output_type": "execute_result"
    }
   ],
   "source": [
    "#Prepare target & features for modeling\n",
    "cols = df.columns\n",
    "train_cols = cols.drop([\"CHURN\"])\n",
    "features = df[train_cols]\n",
    "target = df[\"CHURN\"]\n",
    "train_cols"
   ]
  },
  {
   "cell_type": "code",
   "execution_count": 10,
   "metadata": {},
   "outputs": [
    {
     "name": "stdout",
     "output_type": "stream",
     "text": [
      "1.0\n",
      "0.0\n",
      "First 10 Predictions:   [0, 0, 0, 1, 1, 0, 0, 0, 0, 0]\n",
      "First 10 Actual labels: [0, 0, 0, 1, 1, 0, 0, 0, 0, 0]\n"
     ]
    }
   ],
   "source": [
    "from sklearn.ensemble import RandomForestClassifier\n",
    "from sklearn.cross_validation import cross_val_predict, KFold\n",
    "rf = RandomForestClassifier(class_weight=\"balanced\", random_state=1)\n",
    "#rf.fit(features, target)\n",
    "kf = KFold(features.shape[0], random_state=1)\n",
    "predictions = cross_val_predict(rf, features, target, cv=kf)\n",
    "predictions = pd.Series(predictions)\n",
    "\n",
    "# False positives.\n",
    "fp_filter = (predictions == 1) & (df[\"CHURN\"] == 0)\n",
    "fp = len(predictions[fp_filter])\n",
    "\n",
    "# True positives.\n",
    "tp_filter = (predictions == 1) & (df[\"CHURN\"] == 1)\n",
    "tp = len(predictions[tp_filter])\n",
    "\n",
    "# False negatives.\n",
    "fn_filter = (predictions == 0) & (df[\"CHURN\"] == 1)\n",
    "fn = len(predictions[fn_filter])\n",
    "\n",
    "# True negatives\n",
    "tn_filter = (predictions == 0) & (df[\"CHURN\"] == 0)\n",
    "tn = len(predictions[tn_filter])\n",
    "\n",
    "# Rates\n",
    "tpr = tp / (tp + fn)\n",
    "fpr = fp / (fp + tn)\n",
    "print(tpr)\n",
    "print(fpr)\n",
    "### BEGIN SOLUTION\n",
    "print(f\"First 10 Predictions:   {predictions[:10].tolist()}\")\n",
    "print(f\"First 10 Actual labels: {target.values[:10].tolist()}\")\n",
    "### END SOLUTION"
   ]
  },
  {
   "cell_type": "markdown",
   "metadata": {},
   "source": [
    "## Decision tree"
   ]
  },
  {
   "cell_type": "code",
   "execution_count": 11,
   "metadata": {},
   "outputs": [
    {
     "data": {
      "text/plain": [
       "1.0"
      ]
     },
     "execution_count": 11,
     "metadata": {},
     "output_type": "execute_result"
    }
   ],
   "source": [
    "from sklearn import tree\n",
    "from sklearn.model_selection import train_test_split\n",
    "X_train, X_test, y_train, y_test = train_test_split(features, target, random_state=1)\n",
    "clf = tree.DecisionTreeClassifier()\n",
    "clf = clf.fit(X_train, y_train)\n",
    "predictions = clf.predict(X_test)\n",
    "clf.score(X_test, y_test)"
   ]
  },
  {
   "cell_type": "code",
   "execution_count": 12,
   "metadata": {},
   "outputs": [
    {
     "name": "stdout",
     "output_type": "stream",
     "text": [
      "1.0\n",
      "0.0\n"
     ]
    }
   ],
   "source": [
    "# False positives.\n",
    "fp_filter = (predictions == 1) & (y_test == 0)\n",
    "fp = len(predictions[fp_filter])\n",
    "\n",
    "# True positives.\n",
    "tp_filter = (predictions == 1) & (y_test == 1)\n",
    "tp = len(predictions[tp_filter])\n",
    "\n",
    "# False negatives.\n",
    "fn_filter = (predictions == 0) & (y_test == 1)\n",
    "fn = len(predictions[fn_filter])\n",
    "\n",
    "# True negatives\n",
    "tn_filter = (predictions == 0) & (y_test == 0)\n",
    "tn = len(predictions[tn_filter])\n",
    "\n",
    "# Rates\n",
    "tpr = tp / (tp + fn)\n",
    "fpr = fp / (fp + tn)\n",
    "print(tpr)\n",
    "print(fpr)"
   ]
  },
  {
   "cell_type": "code",
   "execution_count": 13,
   "metadata": {},
   "outputs": [
    {
     "name": "stdout",
     "output_type": "stream",
     "text": [
      "First 10 Predictions:   [1, 0, 0, 0, 0, 0, 1, 0, 1, 1]\n",
      "First 10 Actual labels: [1, 0, 0, 0, 0, 0, 1, 0, 1, 1]\n"
     ]
    }
   ],
   "source": [
    "print(f\"First 10 Predictions:   {predictions[:10].tolist()}\")\n",
    "print(f\"First 10 Actual labels: {y_test[:10].tolist()}\")"
   ]
  },
  {
   "cell_type": "code",
   "execution_count": 14,
   "metadata": {},
   "outputs": [
    {
     "data": {
      "text/plain": [
       "(119731, 45)"
      ]
     },
     "execution_count": 14,
     "metadata": {},
     "output_type": "execute_result"
    }
   ],
   "source": [
    "df.shape"
   ]
  },
  {
   "cell_type": "code",
   "execution_count": 17,
   "metadata": {},
   "outputs": [
    {
     "data": {
      "text/plain": [
       "0         0\n",
       "1         0\n",
       "2         0\n",
       "3         1\n",
       "4         1\n",
       "5         0\n",
       "6         0\n",
       "7         0\n",
       "8         0\n",
       "9         0\n",
       "10        0\n",
       "11        0\n",
       "12        0\n",
       "13        0\n",
       "14        1\n",
       "15        1\n",
       "16        1\n",
       "17        1\n",
       "18        1\n",
       "19        0\n",
       "20        0\n",
       "21        0\n",
       "22        0\n",
       "23        0\n",
       "24        0\n",
       "25        0\n",
       "26        0\n",
       "27        1\n",
       "28        0\n",
       "29        0\n",
       "         ..\n",
       "119701    1\n",
       "119702    1\n",
       "119703    0\n",
       "119704    0\n",
       "119705    0\n",
       "119706    0\n",
       "119707    0\n",
       "119708    0\n",
       "119709    1\n",
       "119710    0\n",
       "119711    0\n",
       "119712    1\n",
       "119713    0\n",
       "119714    0\n",
       "119715    0\n",
       "119716    0\n",
       "119717    1\n",
       "119718    0\n",
       "119719    0\n",
       "119720    0\n",
       "119721    0\n",
       "119722    1\n",
       "119723    0\n",
       "119724    1\n",
       "119725    0\n",
       "119726    0\n",
       "119727    0\n",
       "119728    0\n",
       "119729    1\n",
       "119730    0\n",
       "Name: CHURN, Length: 119731, dtype: int64"
      ]
     },
     "execution_count": 17,
     "metadata": {},
     "output_type": "execute_result"
    }
   ],
   "source": [
    "df[\"CHURN\"]"
   ]
  },
  {
   "cell_type": "code",
   "execution_count": 22,
   "metadata": {},
   "outputs": [
    {
     "data": {
      "text/plain": [
       "Index(['GENDER', 'SENIORCITIZEN', 'PARTNER', 'DEPENDENTS', 'TENURE',\n",
       "       'PHONESERVICE', 'PAPERLESSBILLING', 'MONTHLYCHARGES', 'TOTALCHARGES',\n",
       "       'MONTHLY_MINUTES_OF_USE', 'TOTAL_MINUTES_OF_USE', 'MONTHLY_SMS',\n",
       "       'TOTAL_SMS', 'MULTIPLELINES_No', 'MULTIPLELINES_No phone service',\n",
       "       'MULTIPLELINES_Yes', 'INTERNETSERVICE_DSL',\n",
       "       'INTERNETSERVICE_Fiber optic', 'INTERNETSERVICE_No',\n",
       "       'ONLINESECURITY_No', 'ONLINESECURITY_No internet service',\n",
       "       'ONLINESECURITY_Yes', 'ONLINEBACKUP_No',\n",
       "       'ONLINEBACKUP_No internet service', 'ONLINEBACKUP_Yes',\n",
       "       'DEVICEPROTECTION_No', 'DEVICEPROTECTION_No internet service',\n",
       "       'DEVICEPROTECTION_Yes', 'TECHSUPPORT_No',\n",
       "       'TECHSUPPORT_No internet service', 'TECHSUPPORT_Yes', 'STREAMINGTV_No',\n",
       "       'STREAMINGTV_No internet service', 'STREAMINGTV_Yes',\n",
       "       'STREAMINGMOVIES_No', 'STREAMINGMOVIES_No internet service',\n",
       "       'STREAMINGMOVIES_Yes', 'CONTRACT_Month-to-month', 'CONTRACT_One year',\n",
       "       'CONTRACT_Two year', 'PAYMENTMETHOD_Bank transfer automatic',\n",
       "       'PAYMENTMETHOD_Credit card automatic', 'PAYMENTMETHOD_Electronic check',\n",
       "       'PAYMENTMETHOD_Mailed check'],\n",
       "      dtype='object')"
      ]
     },
     "execution_count": 22,
     "metadata": {},
     "output_type": "execute_result"
    }
   ],
   "source": [
    "#Prepare target & features for modeling\n",
    "cols = df.columns\n",
    "train_cols = cols.drop([\"CHURN\"])\n",
    "features = df[['GENDER', 'SENIORCITIZEN', 'PARTNER', 'DEPENDENTS', 'TENURE',\n",
    "       'PHONESERVICE', 'PAPERLESSBILLING', 'MONTHLYCHARGES', 'TOTALCHARGES',\n",
    "       'MONTHLY_MINUTES_OF_USE', 'TOTAL_MINUTES_OF_USE', 'MONTHLY_SMS',\n",
    "       'TOTAL_SMS', 'MULTIPLELINES_No', 'MULTIPLELINES_No phone service',\n",
    "       'MULTIPLELINES_Yes', 'INTERNETSERVICE_DSL',\n",
    "       'INTERNETSERVICE_Fiber optic', 'INTERNETSERVICE_No',\n",
    "       'ONLINESECURITY_No', 'ONLINESECURITY_No internet service',\n",
    "       'ONLINESECURITY_Yes', 'ONLINEBACKUP_No',\n",
    "       'ONLINEBACKUP_No internet service', 'ONLINEBACKUP_Yes',\n",
    "       'DEVICEPROTECTION_No', 'DEVICEPROTECTION_No internet service',\n",
    "       'DEVICEPROTECTION_Yes', 'TECHSUPPORT_No']]\n",
    "target = df[\"CHURN\"]\n",
    "train_cols"
   ]
  },
  {
   "cell_type": "code",
   "execution_count": 23,
   "metadata": {},
   "outputs": [
    {
     "name": "stdout",
     "output_type": "stream",
     "text": [
      "1.0\n",
      "0.0\n",
      "First 10 Predictions:   [0, 0, 0, 1, 1, 0, 0, 0, 0, 0]\n",
      "First 10 Actual labels: [0, 0, 0, 1, 1, 0, 0, 0, 0, 0]\n"
     ]
    }
   ],
   "source": [
    "from sklearn.ensemble import RandomForestClassifier\n",
    "from sklearn.cross_validation import cross_val_predict, KFold\n",
    "rf = RandomForestClassifier(class_weight=\"balanced\", random_state=1)\n",
    "#rf.fit(features, target)\n",
    "kf = KFold(features.shape[0], random_state=1)\n",
    "predictions = cross_val_predict(rf, features, target, cv=kf)\n",
    "predictions = pd.Series(predictions)\n",
    "\n",
    "# False positives.\n",
    "fp_filter = (predictions == 1) & (df[\"CHURN\"] == 0)\n",
    "fp = len(predictions[fp_filter])\n",
    "\n",
    "# True positives.\n",
    "tp_filter = (predictions == 1) & (df[\"CHURN\"] == 1)\n",
    "tp = len(predictions[tp_filter])\n",
    "\n",
    "# False negatives.\n",
    "fn_filter = (predictions == 0) & (df[\"CHURN\"] == 1)\n",
    "fn = len(predictions[fn_filter])\n",
    "\n",
    "# True negatives\n",
    "tn_filter = (predictions == 0) & (df[\"CHURN\"] == 0)\n",
    "tn = len(predictions[tn_filter])\n",
    "\n",
    "# Rates\n",
    "tpr = tp / (tp + fn)\n",
    "fpr = fp / (fp + tn)\n",
    "print(tpr)\n",
    "print(fpr)\n",
    "### BEGIN SOLUTION\n",
    "print(f\"First 10 Predictions:   {predictions[:10].tolist()}\")\n",
    "print(f\"First 10 Actual labels: {target.values[:10].tolist()}\")\n",
    "### END SOLUTION"
   ]
  },
  {
   "cell_type": "code",
   "execution_count": 25,
   "metadata": {
    "collapsed": true
   },
   "outputs": [],
   "source": [
    "#Prepare target & features for modeling\n",
    "cols = df.columns\n",
    "train_cols = cols.drop([\"CHURN\"])\n",
    "features = df[['GENDER', 'SENIORCITIZEN', 'PARTNER', 'DEPENDENTS', 'TENURE',\n",
    "       'PHONESERVICE', 'PAPERLESSBILLING', 'MONTHLYCHARGES', 'TOTALCHARGES',\n",
    "       'MONTHLY_MINUTES_OF_USE', 'TOTAL_MINUTES_OF_USE', 'MONTHLY_SMS',\n",
    "       'TOTAL_SMS', 'MULTIPLELINES_No', 'MULTIPLELINES_No phone service',\n",
    "       'MULTIPLELINES_Yes', 'INTERNETSERVICE_DSL',\n",
    "       'INTERNETSERVICE_Fiber optic', 'INTERNETSERVICE_No',\n",
    "       'ONLINESECURITY_No', 'ONLINESECURITY_No internet service',\n",
    "       'ONLINESECURITY_Yes']]\n",
    "target = df[\"CHURN\"]"
   ]
  },
  {
   "cell_type": "code",
   "execution_count": 26,
   "metadata": {},
   "outputs": [
    {
     "name": "stdout",
     "output_type": "stream",
     "text": [
      "1.0\n",
      "0.0\n",
      "First 10 Predictions:   [0, 0, 0, 1, 1, 0, 0, 0, 0, 0]\n",
      "First 10 Actual labels: [0, 0, 0, 1, 1, 0, 0, 0, 0, 0]\n"
     ]
    }
   ],
   "source": [
    "from sklearn.ensemble import RandomForestClassifier\n",
    "from sklearn.cross_validation import cross_val_predict, KFold\n",
    "rf = RandomForestClassifier(class_weight=\"balanced\", random_state=1)\n",
    "#rf.fit(features, target)\n",
    "kf = KFold(features.shape[0], random_state=1)\n",
    "predictions = cross_val_predict(rf, features, target, cv=kf)\n",
    "predictions = pd.Series(predictions)\n",
    "\n",
    "# False positives.\n",
    "fp_filter = (predictions == 1) & (df[\"CHURN\"] == 0)\n",
    "fp = len(predictions[fp_filter])\n",
    "\n",
    "# True positives.\n",
    "tp_filter = (predictions == 1) & (df[\"CHURN\"] == 1)\n",
    "tp = len(predictions[tp_filter])\n",
    "\n",
    "# False negatives.\n",
    "fn_filter = (predictions == 0) & (df[\"CHURN\"] == 1)\n",
    "fn = len(predictions[fn_filter])\n",
    "\n",
    "# True negatives\n",
    "tn_filter = (predictions == 0) & (df[\"CHURN\"] == 0)\n",
    "tn = len(predictions[tn_filter])\n",
    "\n",
    "# Rates\n",
    "tpr = tp / (tp + fn)\n",
    "fpr = fp / (fp + tn)\n",
    "print(tpr)\n",
    "print(fpr)\n",
    "### BEGIN SOLUTION\n",
    "print(f\"First 10 Predictions:   {predictions[:10].tolist()}\")\n",
    "print(f\"First 10 Actual labels: {target.values[:10].tolist()}\")\n",
    "### END SOLUTION"
   ]
  },
  {
   "cell_type": "code",
   "execution_count": 51,
   "metadata": {
    "collapsed": true
   },
   "outputs": [],
   "source": [
    "#Prepare target & features for modeling\n",
    "cols = df.columns\n",
    "train_cols = cols.drop([\"CHURN\"])\n",
    "features = df[['GENDER', 'SENIORCITIZEN', 'PARTNER', 'DEPENDENTS', 'TENURE',\n",
    "       'PHONESERVICE','MONTHLYCHARGES'\n",
    "       ]]\n",
    "target = df[\"CHURN\"]"
   ]
  },
  {
   "cell_type": "code",
   "execution_count": 52,
   "metadata": {},
   "outputs": [
    {
     "name": "stdout",
     "output_type": "stream",
     "text": [
      "0.9983948635634029\n",
      "0.011664658132290411\n",
      "First 10 Predictions:   [0, 0, 0, 1, 1, 0, 0, 0, 0, 0]\n",
      "First 10 Actual labels: [0, 0, 0, 1, 1, 0, 0, 0, 0, 0]\n"
     ]
    }
   ],
   "source": [
    "from sklearn.ensemble import RandomForestClassifier\n",
    "from sklearn.cross_validation import cross_val_predict, KFold\n",
    "rf = RandomForestClassifier(class_weight=\"balanced\", random_state=1)\n",
    "#rf.fit(features, target)\n",
    "kf = KFold(features.shape[0], random_state=1)\n",
    "predictions = cross_val_predict(rf, features, target, cv=kf)\n",
    "predictions = pd.Series(predictions)\n",
    "\n",
    "# False positives.\n",
    "fp_filter = (predictions == 1) & (df[\"CHURN\"] == 0)\n",
    "fp = len(predictions[fp_filter])\n",
    "\n",
    "# True positives.\n",
    "tp_filter = (predictions == 1) & (df[\"CHURN\"] == 1)\n",
    "tp = len(predictions[tp_filter])\n",
    "\n",
    "# False negatives.\n",
    "fn_filter = (predictions == 0) & (df[\"CHURN\"] == 1)\n",
    "fn = len(predictions[fn_filter])\n",
    "\n",
    "# True negatives\n",
    "tn_filter = (predictions == 0) & (df[\"CHURN\"] == 0)\n",
    "tn = len(predictions[tn_filter])\n",
    "\n",
    "# Rates\n",
    "tpr = tp / (tp + fn)\n",
    "fpr = fp / (fp + tn)\n",
    "print(tpr)\n",
    "print(fpr)\n",
    "### BEGIN SOLUTION\n",
    "print(f\"First 10 Predictions:   {predictions[:10].tolist()}\")\n",
    "print(f\"First 10 Actual labels: {target.values[:10].tolist()}\")\n",
    "### END SOLUTION"
   ]
  },
  {
   "cell_type": "code",
   "execution_count": null,
   "metadata": {
    "collapsed": true
   },
   "outputs": [],
   "source": []
  }
 ],
 "metadata": {
  "kernelspec": {
   "display_name": "Python [conda env:PythonData]",
   "language": "python",
   "name": "conda-env-PythonData-py"
  },
  "language_info": {
   "codemirror_mode": {
    "name": "ipython",
    "version": 3
   },
   "file_extension": ".py",
   "mimetype": "text/x-python",
   "name": "python",
   "nbconvert_exporter": "python",
   "pygments_lexer": "ipython3",
   "version": "3.6.1"
  }
 },
 "nbformat": 4,
 "nbformat_minor": 2
}
